{
 "cells": [
  {
   "cell_type": "code",
   "execution_count": null,
   "outputs": [],
   "source": [
    "import re\n",
    "import os\n",
    "from os import linesep, path, DirEntry\n",
    "\n",
    "from IPython.display import display\n",
    "\n",
    "import pandas as pd\n",
    "import spacy as sp\n",
    "from pandas import DataFrame\n",
    "from spacy.tokens import Doc"
   ],
   "metadata": {
    "collapsed": false
   }
  },
  {
   "cell_type": "code",
   "execution_count": null,
   "outputs": [],
   "source": [
    "!ipython -m spacy download en_core_web_trf"
   ],
   "metadata": {
    "collapsed": false
   }
  },
  {
   "cell_type": "code",
   "execution_count": null,
   "outputs": [],
   "source": [
    "nlp = sp.load(\"en_core_web_trf\")"
   ],
   "metadata": {
    "collapsed": false
   }
  },
  {
   "cell_type": "code",
   "execution_count": null,
   "outputs": [],
   "source": [
    "chars_df = pd.read_csv(filepath_or_buffer=path.join(\"csv\", \"characters.csv\"), sep=\";\", header=0,\n",
    "                       index_col=0, encoding=\"utf-8\")\n",
    "chars_df"
   ],
   "metadata": {
    "collapsed": false
   }
  },
  {
   "cell_type": "code",
   "execution_count": null,
   "outputs": [],
   "source": [
    "def trim_content(entry: DirEntry) -> str:\n",
    "    s = open(entry).read()\n",
    "    return linesep.join([s for s in s.splitlines() if s.strip()])\n",
    "\n",
    "\n",
    "def entries_to_dicts() -> list[dict[str, str | Doc]]:\n",
    "    b: DirEntry\n",
    "    entries = [b for b in os.scandir(\"texts\") if b.name.endswith(\".txt\")]\n",
    "    return [{\"File\": b.name,\n",
    "             \"Book\": re.sub(r\"(?:\\d|[A-Z])\\s-\\s\", \"\", b.name).replace(\".txt\", \"\"),\n",
    "             \"Doc\": nlp(trim_content(b))} for b in entries]\n",
    "\n",
    "\n",
    "book_entries = entries_to_dicts()\n",
    "%store book_entries"
   ],
   "metadata": {
    "collapsed": false
   }
  },
  {
   "cell_type": "code",
   "execution_count": null,
   "outputs": [],
   "source": [
    "def contents_to_dicts(_dicts: list[dict[str, str | Doc]]) -> list[dict[str, str]]:\n",
    "    book: str\n",
    "    doc: Doc\n",
    "    for book, doc in zip([d[\"Book\"] for d in book_entries], [d[\"Doc\"] for d in book_entries]):\n",
    "        for sentence in doc.sents:\n",
    "            entities = [entity.text for entity in sentence.ents]\n",
    "            yield dict(Book=book, Sentence=sentence.as_doc().text, Entities=entities)"
   ],
   "metadata": {
    "collapsed": false
   }
  },
  {
   "cell_type": "code",
   "execution_count": null,
   "outputs": [],
   "source": [
    "def filter_entities(entities: list[str], *args: DataFrame) -> list[str]:\n",
    "    return [ent for ent in entities if ent in set().union(*args)]\n",
    "\n",
    "\n",
    "roman_numeral = \"M{0,4}(CM|CD|D?C{0,3})(XC|XL|L?X{0,3})(IX|IV|V?I{0,3})\"\n",
    "\n",
    "sents_df = DataFrame.from_records(contents_to_dicts(book_entries))\n",
    "sents_df[\"CharacterEntities\"] = sents_df[\"Entities\"] \\\n",
    "    .apply(lambda l: filter_entities(l, chars_df[\"FirstName\"], chars_df[\"FullName\"])) \\\n",
    "    .apply(lambda l: [re.sub(f\"\\s(?!{roman_numeral}$).*\", \"\", s) for s in l])\n",
    "sents_df[\"Sentence\"] = sents_df[\"Sentence\"] \\\n",
    "    .apply(lambda x: x.replace(\"\\r\\n\", \"\")) \\\n",
    "    .apply(lambda x: x.strip())\n",
    "filtered_sents_df = sents_df[sents_df[\"CharacterEntities\"].map(len) > 0]\n",
    "%store sents_df\n",
    "%store filtered_sents_df"
   ],
   "metadata": {
    "collapsed": false
   }
  },
  {
   "cell_type": "code",
   "execution_count": null,
   "outputs": [],
   "source": [
    "%store -r sents_df\n",
    "%store -r filtered_sents_df\n",
    "display(sents_df, filtered_sents_df)"
   ],
   "metadata": {
    "collapsed": false
   }
  }
 ],
 "metadata": {
  "kernelspec": {
   "display_name": "Python 3",
   "language": "python",
   "name": "python3"
  },
  "language_info": {
   "codemirror_mode": {
    "name": "ipython",
    "version": 2
   },
   "file_extension": ".py",
   "mimetype": "text/x-python",
   "name": "python",
   "nbconvert_exporter": "python",
   "pygments_lexer": "ipython2",
   "version": "2.7.6"
  }
 },
 "nbformat": 4,
 "nbformat_minor": 0
}
