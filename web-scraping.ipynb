{
 "cells": [
  {
   "cell_type": "code",
   "execution_count": 68,
   "outputs": [],
   "source": [
    "import re\n",
    "from collections import namedtuple\n",
    "from os import path\n",
    "from typing import Type\n",
    "\n",
    "from pandas import DataFrame\n",
    "from selenium import webdriver\n",
    "from selenium.webdriver.remote.webelement import WebElement"
   ],
   "metadata": {
    "collapsed": false,
    "ExecuteTime": {
     "end_time": "2023-06-20T00:23:16.229958200Z",
     "start_time": "2023-06-20T00:23:16.162387800Z"
    }
   }
  },
  {
   "cell_type": "code",
   "execution_count": 69,
   "outputs": [],
   "source": [
    "profile = webdriver.FirefoxProfile()\n",
    "profile.add_extension(path.join(\"webdriver\", \"ublock_origin-1.49.2.xpi\"))\n",
    "driver = webdriver.Firefox(executable_path=path.join(\"webdriver\", \"geckodriver.exe\"), firefox_profile=profile)\n",
    "driver.maximize_window()"
   ],
   "metadata": {
    "collapsed": false,
    "ExecuteTime": {
     "end_time": "2023-06-20T00:23:24.092517700Z",
     "start_time": "2023-06-20T00:23:16.182454300Z"
    }
   }
  },
  {
   "cell_type": "code",
   "execution_count": 70,
   "outputs": [
    {
     "name": "stdout",
     "output_type": "stream",
     "text": [
      "https://witcher.fandom.com/wiki/Category:Baptism_of_Fire_characters\n",
      "https://witcher.fandom.com/wiki/Category:Blood_of_Elves_characters\n",
      "https://witcher.fandom.com/wiki/Category:Something_Ends,_Something_Begins_characters\n",
      "https://witcher.fandom.com/wiki/Category:Sword_of_Destiny_characters\n",
      "https://witcher.fandom.com/wiki/Category:The_Lady_of_the_Lake_characters\n",
      "https://witcher.fandom.com/wiki/Category:The_Last_Wish_characters\n",
      "https://witcher.fandom.com/wiki/Category:The_Tower_of_the_Swallow_characters\n",
      "https://witcher.fandom.com/wiki/Category:Time_of_Contempt_characters\n"
     ]
    }
   ],
   "source": [
    "urls = ['https://witcher.fandom.com/wiki/Category:Baptism_of_Fire_characters',\n",
    "        'https://witcher.fandom.com/wiki/Category:Blood_of_Elves_characters',\n",
    "        'https://witcher.fandom.com/wiki/Category:Something_Ends,_Something_Begins_characters',\n",
    "        'https://witcher.fandom.com/wiki/Category:Sword_of_Destiny_characters',\n",
    "        'https://witcher.fandom.com/wiki/Category:The_Lady_of_the_Lake_characters',\n",
    "        'https://witcher.fandom.com/wiki/Category:The_Last_Wish_characters',\n",
    "        'https://witcher.fandom.com/wiki/Category:The_Tower_of_the_Swallow_characters',\n",
    "        'https://witcher.fandom.com/wiki/Category:Time_of_Contempt_characters']\n",
    "print(*urls, sep=\"\\n\")"
   ],
   "metadata": {
    "collapsed": false,
    "ExecuteTime": {
     "end_time": "2023-06-20T00:23:24.108772700Z",
     "start_time": "2023-06-20T00:23:24.096527400Z"
    }
   }
  },
  {
   "cell_type": "code",
   "execution_count": 71,
   "outputs": [],
   "source": [
    "roman_numeral = \"M{0,4}(CM|CD|D?C{0,3})(XC|XL|L?X{0,3})(IX|IV|V?I{0,3})\"\n",
    "\n",
    "\n",
    "def create_char_dict(book_urls: list[str]) -> list[dict[str, str]]:\n",
    "    for book_url in book_urls:\n",
    "        driver.get(book_url)\n",
    "        char_webpage: list[WebElement] = driver.find_elements_by_class_name(\"category-page__member-link\")\n",
    "        # Retrieve book title, then remove text after last space\n",
    "        book_title: str = re.sub(\"\\s[^\\s]+$\", \"\", driver.find_element_by_class_name(\"page-header__title\").text)\n",
    "        # Retrieve character attributes as tuples: the first element is the character's web page; the second element is the character's name\n",
    "        # character names: a text enclosed by parenthesis will be removed\n",
    "        char_attrs: list[tuple[str, str]] = \\\n",
    "            [(char.get_attribute(\"href\"), re.sub(r\"\\s\\([^()]*\\)\", \"\", char.get_attribute(\"title\")))\n",
    "             for char in char_webpage]\n",
    "        for char_url, char_full_name in char_attrs:\n",
    "            # Remove text after the first space (except if said text is a roman numeral)\n",
    "            # We're trying to only retrieve the first name (E.g.: \"Geralt of Rivia\" → \"Geralt\"; \"Radovic I\" → \"Radovic I\")\n",
    "            char_first_name = re.sub(f\"\\s(?!{roman_numeral}$).*\", \"\", char_full_name)\n",
    "            yield dict(Book=book_title, URL=char_url, FullName=char_full_name, FirstName=char_first_name)\n",
    "\n",
    "\n",
    "char_apps = create_char_dict(urls)\n",
    "char_apps_df: DataFrame = DataFrame.from_dict(char_apps)"
   ],
   "metadata": {
    "collapsed": false,
    "ExecuteTime": {
     "end_time": "2023-06-20T00:23:54.607307Z",
     "start_time": "2023-06-20T00:23:24.116280900Z"
    }
   }
  },
  {
   "cell_type": "code",
   "execution_count": 72,
   "outputs": [
    {
     "data": {
      "text/plain": "                  Book                                                URL  \\\n0      Baptism of Fire             https://witcher.fandom.com/wiki/Adalia   \n1      Baptism of Fire              https://witcher.fandom.com/wiki/Adela   \n2      Baptism of Fire      https://witcher.fandom.com/wiki/Aen_Saevherne   \n3      Baptism of Fire           https://witcher.fandom.com/wiki/Aevenien   \n4      Baptism of Fire        https://witcher.fandom.com/wiki/Agla%C3%AFs   \n...                ...                                                ...   \n1161  Time of Contempt   https://witcher.fandom.com/wiki/Yanna_of_Murivel   \n1162  Time of Contempt      https://witcher.fandom.com/wiki/Yarpen_Zigrin   \n1163  Time of Contempt  https://witcher.fandom.com/wiki/Yennefer_of_Ve...   \n1164  Time of Contempt    https://witcher.fandom.com/wiki/Yiolenta_Suarez   \n1165  Time of Contempt              https://witcher.fandom.com/wiki/Zyvik   \n\n                    FullName FirstName  \n0                     Adalia    Adalia  \n1                      Adela     Adela  \n2              Aen Saevherne       Aen  \n3                   Aevenien  Aevenien  \n4                     Aglaïs    Aglaïs  \n...                      ...       ...  \n1161        Yanna of Murivel     Yanna  \n1162           Yarpen Zigrin    Yarpen  \n1163  Yennefer of Vengerberg  Yennefer  \n1164         Yiolenta Suarez  Yiolenta  \n1165                   Zyvik     Zyvik  \n\n[1166 rows x 4 columns]",
      "text/html": "<div>\n<style scoped>\n    .dataframe tbody tr th:only-of-type {\n        vertical-align: middle;\n    }\n\n    .dataframe tbody tr th {\n        vertical-align: top;\n    }\n\n    .dataframe thead th {\n        text-align: right;\n    }\n</style>\n<table border=\"1\" class=\"dataframe\">\n  <thead>\n    <tr style=\"text-align: right;\">\n      <th></th>\n      <th>Book</th>\n      <th>URL</th>\n      <th>FullName</th>\n      <th>FirstName</th>\n    </tr>\n  </thead>\n  <tbody>\n    <tr>\n      <th>0</th>\n      <td>Baptism of Fire</td>\n      <td>https://witcher.fandom.com/wiki/Adalia</td>\n      <td>Adalia</td>\n      <td>Adalia</td>\n    </tr>\n    <tr>\n      <th>1</th>\n      <td>Baptism of Fire</td>\n      <td>https://witcher.fandom.com/wiki/Adela</td>\n      <td>Adela</td>\n      <td>Adela</td>\n    </tr>\n    <tr>\n      <th>2</th>\n      <td>Baptism of Fire</td>\n      <td>https://witcher.fandom.com/wiki/Aen_Saevherne</td>\n      <td>Aen Saevherne</td>\n      <td>Aen</td>\n    </tr>\n    <tr>\n      <th>3</th>\n      <td>Baptism of Fire</td>\n      <td>https://witcher.fandom.com/wiki/Aevenien</td>\n      <td>Aevenien</td>\n      <td>Aevenien</td>\n    </tr>\n    <tr>\n      <th>4</th>\n      <td>Baptism of Fire</td>\n      <td>https://witcher.fandom.com/wiki/Agla%C3%AFs</td>\n      <td>Aglaïs</td>\n      <td>Aglaïs</td>\n    </tr>\n    <tr>\n      <th>...</th>\n      <td>...</td>\n      <td>...</td>\n      <td>...</td>\n      <td>...</td>\n    </tr>\n    <tr>\n      <th>1161</th>\n      <td>Time of Contempt</td>\n      <td>https://witcher.fandom.com/wiki/Yanna_of_Murivel</td>\n      <td>Yanna of Murivel</td>\n      <td>Yanna</td>\n    </tr>\n    <tr>\n      <th>1162</th>\n      <td>Time of Contempt</td>\n      <td>https://witcher.fandom.com/wiki/Yarpen_Zigrin</td>\n      <td>Yarpen Zigrin</td>\n      <td>Yarpen</td>\n    </tr>\n    <tr>\n      <th>1163</th>\n      <td>Time of Contempt</td>\n      <td>https://witcher.fandom.com/wiki/Yennefer_of_Ve...</td>\n      <td>Yennefer of Vengerberg</td>\n      <td>Yennefer</td>\n    </tr>\n    <tr>\n      <th>1164</th>\n      <td>Time of Contempt</td>\n      <td>https://witcher.fandom.com/wiki/Yiolenta_Suarez</td>\n      <td>Yiolenta Suarez</td>\n      <td>Yiolenta</td>\n    </tr>\n    <tr>\n      <th>1165</th>\n      <td>Time of Contempt</td>\n      <td>https://witcher.fandom.com/wiki/Zyvik</td>\n      <td>Zyvik</td>\n      <td>Zyvik</td>\n    </tr>\n  </tbody>\n</table>\n<p>1166 rows × 4 columns</p>\n</div>"
     },
     "execution_count": 72,
     "metadata": {},
     "output_type": "execute_result"
    }
   ],
   "source": [
    "char_apps_df"
   ],
   "metadata": {
    "collapsed": false,
    "ExecuteTime": {
     "end_time": "2023-06-20T00:23:54.622333200Z",
     "start_time": "2023-06-20T00:23:54.610307300Z"
    }
   }
  },
  {
   "cell_type": "code",
   "execution_count": 77,
   "outputs": [],
   "source": [
    "wanted_attrs: set[str] = {\"Status\", \"Race\", \"Gender\", \"Nationality\", \"Parent(s)\", \"Child(ren)\", \"Relative(s)\",\n",
    "                          \"Partner(s)\", \"Profession\", \"Abilities\"}\n",
    "relationship_attrs: set[str] = {\"Parent(s)\", \"Child(ren)\", \"Relative(s)\", \"Partner(s)\"}\n",
    "AttributePair: Type[\"AttributePair\"] = namedtuple(\"AttributePair\", [\"href\", \"title\"])\n",
    "\n",
    "\n",
    "def add_relationships(key: str, attrs_dict: dict[str, str | dict[str, str]], item: WebElement):\n",
    "    data_source: list[WebElement] = item.find_elements_by_class_name(\"pi-data-value\")\n",
    "    for data_value in data_source:\n",
    "        anchor_tags: list[AttributePair] = [AttributePair(tag.get_attribute(\"href\"), tag.get_attribute(\"title\"))\n",
    "                                            for tag in data_value.find_elements_by_css_selector(\"a\")]\n",
    "        if not anchor_tags:\n",
    "            return\n",
    "        inner_text: list[str] = [tag.text for tag in data_value.find_elements_by_tag_name(\"small\")]\n",
    "        attrs_dict[key] = {hyperlink: f\"{name} {relationship}\" for name, relationship, hyperlink\n",
    "                           in zip([p.title for p in anchor_tags], inner_text, [p.href for p in anchor_tags])\n",
    "                           if name and hyperlink}\n",
    "\n",
    "\n",
    "def table_contents_to_dict(char_url: str) -> dict[str, str | list[str]]:\n",
    "    attrs_dict: dict[str, str] = {}\n",
    "    driver.get(char_url)\n",
    "    driver.implicitly_wait(0.25)\n",
    "    items: list[WebElement] = driver.find_elements_by_css_selector(\"div.pi-item.pi-data\")\n",
    "    for item in items:\n",
    "        key: str = item.find_element_by_class_name(\"pi-data-label\").text\n",
    "        if not key:\n",
    "            continue\n",
    "        if key in relationship_attrs:\n",
    "            add_relationships(key, attrs_dict, item)\n",
    "        elif key in wanted_attrs:\n",
    "            attrs_dict[key] = item.find_element_by_class_name(\"pi-data-value\").text\n",
    "    return attrs_dict\n",
    "\n",
    "\n",
    "def webpages_to_dicts(*args: DataFrame) -> list[dict[str, str | dict[str, str]]]:\n",
    "    for url, full_name, first_name in zip(args[0], args[1], args[2]):\n",
    "        prepend: dict[str, str] = dict(URL=url, FullName=full_name, FirstName=first_name)\n",
    "        append: dict[str, str | dict[str, str]] = table_contents_to_dict(url)\n",
    "        attrs_dict: dict[str, str | dict[str, str]] = {**append, **prepend}\n",
    "        yield attrs_dict\n",
    "\n",
    "\n",
    "chars_df = char_apps_df.drop_duplicates(subset=\"URL\")\n",
    "chars_df: DataFrame = DataFrame.from_records(\n",
    "    webpages_to_dicts(chars_df[\"URL\"], chars_df[\"FullName\"], chars_df[\"FirstName\"]))"
   ],
   "metadata": {
    "collapsed": false,
    "ExecuteTime": {
     "end_time": "2023-06-20T00:34:46.377654500Z",
     "start_time": "2023-06-20T00:23:55.436128500Z"
    }
   }
  },
  {
   "cell_type": "code",
   "execution_count": 78,
   "outputs": [],
   "source": [
    "chars_df[\"Race\"] = chars_df[\"Race\"] \\\n",
    "    .apply(lambda s: re.sub(\"\\[N?\\s?\\d\\]\", \"\", str(s))) \\\n",
    "    .apply(lambda s: re.sub(\"(?i)Elf \\(Aen Seidhe.*\\)\", \"Aen Seidhe Elf\", str(s))) \\\n",
    "    .apply(lambda s: re.sub(\"(?i)Elf \\(Aen Elle.*\\)\", \"Aen Elle Elf\", str(s))) \\\n",
    "    .apply(lambda s: re.sub(\"(?i)Elf \\(Wood Elf.*\\)\", \"Wood Elf\", str(s))) \\\n",
    "    .apply(lambda s: re.sub(\"(?i)Human \\(Witcher.*\\)\", \"Witcher Human\", str(s))) \\\n",
    "    .apply(lambda s: re.sub(\"(?i)Quarter-elf.*\", \"Quarter-elf\", str(s))) \\\n",
    "    .apply(lambda s: re.sub(\"(?i)\\sor.*\", \"\", str(s))) \\\n",
    "    .apply(lambda s: re.sub(r\"\\s\\([^()]*\\)\", \"\", str(s))) \\\n",
    "    .apply(lambda s: re.sub(r\"[Nn]a[Nn]\", \"Unknown\", str(s)))"
   ],
   "metadata": {
    "collapsed": false,
    "ExecuteTime": {
     "end_time": "2023-06-20T00:34:46.412667700Z",
     "start_time": "2023-06-20T00:34:46.381656900Z"
    }
   }
  },
  {
   "cell_type": "code",
   "execution_count": 80,
   "outputs": [],
   "source": [
    "char_apps_df.to_csv(path_or_buf=path.join(\"csv\", \"character_appearances.csv\"), sep=\";\", index_label=\"Id\", mode=\"w+\",\n",
    "                    encoding=\"utf-8\")\n",
    "chars_df.to_csv(path_or_buf=path.join(\"csv\", \"characters.csv\"), sep=\";\", index_label=\"Id\", mode=\"w+\",\n",
    "                encoding=\"utf-8\")"
   ],
   "metadata": {
    "collapsed": false,
    "ExecuteTime": {
     "end_time": "2023-06-20T00:34:46.652330100Z",
     "start_time": "2023-06-20T00:34:46.535742900Z"
    }
   }
  }
 ],
 "metadata": {
  "kernelspec": {
   "display_name": "Python 3 (ipykernel)",
   "language": "python",
   "name": "python3"
  },
  "language_info": {
   "codemirror_mode": {
    "name": "ipython",
    "version": 3
   },
   "file_extension": ".py",
   "mimetype": "text/x-python",
   "name": "python",
   "nbconvert_exporter": "python",
   "pygments_lexer": "ipython3",
   "version": "3.9.16"
  }
 },
 "nbformat": 4,
 "nbformat_minor": 1
}
